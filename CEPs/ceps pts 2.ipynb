{
 "cells": [
  {
   "cell_type": "code",
   "execution_count": 14,
   "id": "68608e69",
   "metadata": {},
   "outputs": [],
   "source": [
    "import requests\n",
    "import json\n",
    "import sqlite3"
   ]
  },
  {
   "cell_type": "code",
   "execution_count": 3,
   "id": "47ea340a",
   "metadata": {},
   "outputs": [],
   "source": [
    "#criando o banco de dados\n",
    "con = sqlite3.connect('ceps.db')\n",
    "cur = con.cursor()"
   ]
  },
  {
   "cell_type": "code",
   "execution_count": 37,
   "id": "21842726",
   "metadata": {},
   "outputs": [
    {
     "data": {
      "text/plain": [
       "<sqlite3.Cursor at 0x20d6298d9d0>"
      ]
     },
     "execution_count": 37,
     "metadata": {},
     "output_type": "execute_result"
    }
   ],
   "source": [
    "# criando tabela\n",
    "#cur.execute('''CREATE TABLE data\n",
    "#               (cep TEXT, logradouro TEXT, complemento TEXT, bairro TEXT, localidade TEXT, uf TEXT, ibge TEXT, ddd TEXT, siafi TEXT)''')"
   ]
  },
  {
   "cell_type": "code",
   "execution_count": 38,
   "id": "7c189531",
   "metadata": {},
   "outputs": [],
   "source": [
    "requisição = requests.get(r'https://viacep.com.br/ws/95700066/json/')\n",
    "requisição = requisição.json()\n"
   ]
  },
  {
   "cell_type": "code",
   "execution_count": 39,
   "id": "51f1e358",
   "metadata": {},
   "outputs": [],
   "source": [
    "ceps = cep\n",
    "logradouro = requisição['logradouro']\n",
    "complemento = requisição['complemento']\n",
    "bairro = requisição['bairro']\n",
    "localidade = requisição['localidade']\n",
    "uf = requisição['uf']\n",
    "ibge = requisição['ibge']\n",
    "gia = requisição['gia']\n",
    "ddd = requisição['ddd']\n",
    "siafi = requisição['siafi']\n"
   ]
  },
  {
   "cell_type": "code",
   "execution_count": 33,
   "id": "2cca1678",
   "metadata": {},
   "outputs": [
    {
     "data": {
      "text/plain": [
       "str"
      ]
     },
     "execution_count": 33,
     "metadata": {},
     "output_type": "execute_result"
    }
   ],
   "source": [
    "type(ceps)"
   ]
  },
  {
   "cell_type": "code",
   "execution_count": 40,
   "id": "63012910",
   "metadata": {},
   "outputs": [
    {
     "name": "stderr",
     "output_type": "stream",
     "text": [
      "<>:2: SyntaxWarning: 'str' object is not callable; perhaps you missed a comma?\n",
      "<>:2: SyntaxWarning: 'str' object is not callable; perhaps you missed a comma?\n",
      "C:\\Users\\david\\AppData\\Local\\Temp/ipykernel_12496/1765859215.py:2: SyntaxWarning: 'str' object is not callable; perhaps you missed a comma?\n",
      "  cur.execute(\"INSERT INTO data VALUES (?,?,?,?,?,?,?,?,?)\"(ceps, logradouro, complemento, bairro, localidade,uf,ibge,ddd,siafi))\n"
     ]
    },
    {
     "ename": "TypeError",
     "evalue": "'str' object is not callable",
     "output_type": "error",
     "traceback": [
      "\u001b[1;31m---------------------------------------------------------------------------\u001b[0m",
      "\u001b[1;31mTypeError\u001b[0m                                 Traceback (most recent call last)",
      "\u001b[1;32m~\\AppData\\Local\\Temp/ipykernel_12496/1765859215.py\u001b[0m in \u001b[0;36m<module>\u001b[1;34m\u001b[0m\n\u001b[0;32m      1\u001b[0m \u001b[1;31m# inserindo dados na tabela\u001b[0m\u001b[1;33m\u001b[0m\u001b[1;33m\u001b[0m\u001b[0m\n\u001b[1;32m----> 2\u001b[1;33m \u001b[0mcur\u001b[0m\u001b[1;33m.\u001b[0m\u001b[0mexecute\u001b[0m\u001b[1;33m(\u001b[0m\u001b[1;34m\"INSERT INTO data VALUES (?,?,?,?,?,?,?,?,?)\"\u001b[0m\u001b[1;33m(\u001b[0m\u001b[0mceps\u001b[0m\u001b[1;33m,\u001b[0m \u001b[0mlogradouro\u001b[0m\u001b[1;33m,\u001b[0m \u001b[0mcomplemento\u001b[0m\u001b[1;33m,\u001b[0m \u001b[0mbairro\u001b[0m\u001b[1;33m,\u001b[0m \u001b[0mlocalidade\u001b[0m\u001b[1;33m,\u001b[0m\u001b[0muf\u001b[0m\u001b[1;33m,\u001b[0m\u001b[0mibge\u001b[0m\u001b[1;33m,\u001b[0m\u001b[0mddd\u001b[0m\u001b[1;33m,\u001b[0m\u001b[0msiafi\u001b[0m\u001b[1;33m)\u001b[0m\u001b[1;33m)\u001b[0m\u001b[1;33m\u001b[0m\u001b[1;33m\u001b[0m\u001b[0m\n\u001b[0m",
      "\u001b[1;31mTypeError\u001b[0m: 'str' object is not callable"
     ]
    }
   ],
   "source": [
    "# inserindo dados na tabela\n",
    "cur.execute(\"INSERT INTO data VALUES (?,?,?,?,?,?,?,?,?)\"(ceps, logradouro, complemento, bairro, localidade,uf,ibge,ddd,siafi))"
   ]
  },
  {
   "cell_type": "code",
   "execution_count": null,
   "id": "4bd18132",
   "metadata": {},
   "outputs": [],
   "source": []
  }
 ],
 "metadata": {
  "kernelspec": {
   "display_name": "Python 3 (ipykernel)",
   "language": "python",
   "name": "python3"
  },
  "language_info": {
   "codemirror_mode": {
    "name": "ipython",
    "version": 3
   },
   "file_extension": ".py",
   "mimetype": "text/x-python",
   "name": "python",
   "nbconvert_exporter": "python",
   "pygments_lexer": "ipython3",
   "version": "3.9.7"
  }
 },
 "nbformat": 4,
 "nbformat_minor": 5
}
