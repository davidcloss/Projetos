{
 "cells": [
  {
   "cell_type": "code",
   "execution_count": 6,
   "id": "2534f316",
   "metadata": {},
   "outputs": [
    {
     "name": "stderr",
     "output_type": "stream",
     "text": [
      "  0%|                                                                     | 6998/99999999 [07:09<1703:08:52, 16.31it/s]\n"
     ]
    }
   ],
   "source": [
    "import requests\n",
    "import json\n",
    "import time\n",
    "from tqdm import tqdm\n",
    "import sqlite3\n",
    "#from joblib import Parallel, delayed "
   ]
  },
  {
   "cell_type": "code",
   "execution_count": 13,
   "id": "157517d8",
   "metadata": {},
   "outputs": [
    {
     "ename": "NameError",
     "evalue": "name 'sqlite3' is not defined",
     "output_type": "error",
     "traceback": [
      "\u001b[1;31m---------------------------------------------------------------------------\u001b[0m",
      "\u001b[1;31mNameError\u001b[0m                                 Traceback (most recent call last)",
      "\u001b[1;32m~\\AppData\\Local\\Temp/ipykernel_732/4255138042.py\u001b[0m in \u001b[0;36m<module>\u001b[1;34m\u001b[0m\n\u001b[0;32m      1\u001b[0m \u001b[1;31m#criando o banco de dados\u001b[0m\u001b[1;33m\u001b[0m\u001b[1;33m\u001b[0m\u001b[0m\n\u001b[1;32m----> 2\u001b[1;33m \u001b[0mcon\u001b[0m \u001b[1;33m=\u001b[0m \u001b[0msqlite3\u001b[0m\u001b[1;33m.\u001b[0m\u001b[0mconnect\u001b[0m\u001b[1;33m(\u001b[0m\u001b[1;34m'ceps.db'\u001b[0m\u001b[1;33m)\u001b[0m\u001b[1;33m\u001b[0m\u001b[1;33m\u001b[0m\u001b[0m\n\u001b[0m\u001b[0;32m      3\u001b[0m \u001b[0mcur\u001b[0m \u001b[1;33m=\u001b[0m \u001b[0mcon\u001b[0m\u001b[1;33m.\u001b[0m\u001b[0mcursor\u001b[0m\u001b[1;33m(\u001b[0m\u001b[1;33m)\u001b[0m\u001b[1;33m\u001b[0m\u001b[1;33m\u001b[0m\u001b[0m\n",
      "\u001b[1;31mNameError\u001b[0m: name 'sqlite3' is not defined"
     ]
    }
   ],
   "source": [
    "#criando o banco de dados\n",
    "con = sqlite3.connect('ceps.db')\n",
    "cur = con.cursor()"
   ]
  },
  {
   "cell_type": "code",
   "execution_count": 14,
   "id": "0b37d778",
   "metadata": {},
   "outputs": [],
   "source": [
    "# criando tabela\n",
    "#cur.execute('''CREATE TABLE data\n",
    "#               (cep TEXT, logradouro TEXT, complemento TEXT, bairro TEXT, localidade TEXT, uf TEXT, ibge TEXT, ddd TEXT, siafi TEXT)''')"
   ]
  },
  {
   "cell_type": "code",
   "execution_count": 21,
   "id": "323e18e1",
   "metadata": {},
   "outputs": [
    {
     "name": "stderr",
     "output_type": "stream",
     "text": [
      "  0%|                                                                      | 10/99999999 [00:19<53298:48:04,  1.92s/it]\n",
      "  0%|                                                                        | 3/99999999 [00:00<6332:34:57,  4.39it/s]"
     ]
    },
    {
     "name": "stdout",
     "output_type": "stream",
     "text": [
      "<Response [200]>\n"
     ]
    }
   ],
   "source": [
    "#def ceps():\n",
    "pbar = tqdm(total=99999999, position=0, leave=True)\n",
    "cep_requisição = []\n",
    "tempo_inicial = time.time()\n",
    "for i in range(10):\n",
    "    pbar.update()\n",
    "    if 8 - i == 7:\n",
    "        requisição = requests.get(f'https://viacep.com.br/ws/0000000{i}/json/')\n",
    "        if requisição == '<Response [502]>':\n",
    "            print(funcionou)\n",
    "        equisição = requisição.json()\n",
    "        print(requisição)\n",
    "    "
   ]
  },
  {
   "cell_type": "code",
   "execution_count": null,
   "id": "0c921875",
   "metadata": {},
   "outputs": [],
   "source": [
    "time.sleep(0.01)\n",
    "    i= i + 1\n",
    "    r = []\n",
    "    r.append(i)\n",
    "    cep_requisição.extend(r)\n",
    "    tempo_final = time.time()\n",
    "    tempo_total = tempo_final - tempo_inicial\n",
    "#resultado = Parallel(n_jobs=-4)(delayed(ceps))\n",
    "print('Demorou {:.2}'.format(tempo_total))\n",
    "print(cep_requisição)"
   ]
  },
  {
   "cell_type": "code",
   "execution_count": null,
   "id": "9effd04b",
   "metadata": {},
   "outputs": [],
   "source": [
    "# requisição informações\n",
    "cep = requests.get(r'https://viacep.com.br/ws/{}/json/'.format(r))\n",
    "cep = cep.json()\n",
    "print(cep)"
   ]
  },
  {
   "cell_type": "code",
   "execution_count": 2,
   "id": "ae18364d",
   "metadata": {},
   "outputs": [
    {
     "ename": "NameError",
     "evalue": "name 'cep_requisição' is not defined",
     "output_type": "error",
     "traceback": [
      "\u001b[1;31m---------------------------------------------------------------------------\u001b[0m",
      "\u001b[1;31mNameError\u001b[0m                                 Traceback (most recent call last)",
      "\u001b[1;32m~\\AppData\\Local\\Temp/ipykernel_6380/1473950113.py\u001b[0m in \u001b[0;36m<module>\u001b[1;34m\u001b[0m\n\u001b[1;32m----> 1\u001b[1;33m \u001b[0mprint\u001b[0m\u001b[1;33m(\u001b[0m\u001b[0mcep_requisição\u001b[0m\u001b[1;33m)\u001b[0m\u001b[1;33m\u001b[0m\u001b[1;33m\u001b[0m\u001b[0m\n\u001b[0m",
      "\u001b[1;31mNameError\u001b[0m: name 'cep_requisição' is not defined"
     ]
    }
   ],
   "source": [
    "with open('CEPs.txt', 'w') as txt:\n",
    "    txt.write(cep_requisição)\n",
    "    "
   ]
  },
  {
   "cell_type": "code",
   "execution_count": null,
   "id": "1806dae1",
   "metadata": {},
   "outputs": [],
   "source": [
    "if cep_requisição_requisição)"
   ]
  }
 ],
 "metadata": {
  "kernelspec": {
   "display_name": "Python 3 (ipykernel)",
   "language": "python",
   "name": "python3"
  },
  "language_info": {
   "codemirror_mode": {
    "name": "ipython",
    "version": 3
   },
   "file_extension": ".py",
   "mimetype": "text/x-python",
   "name": "python",
   "nbconvert_exporter": "python",
   "pygments_lexer": "ipython3",
   "version": "3.9.7"
  }
 },
 "nbformat": 4,
 "nbformat_minor": 5
}
