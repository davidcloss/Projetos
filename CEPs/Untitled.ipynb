{
 "cells": [
  {
   "cell_type": "code",
   "execution_count": 1,
   "id": "2534f316",
   "metadata": {},
   "outputs": [],
   "source": [
    "import requests\n",
    "import json\n",
    "import time\n",
    "from tqdm import tqdm\n",
    "import sqlite3\n",
    "import numpy as np\n",
    "#from joblib import Parallel, delayed "
   ]
  },
  {
   "cell_type": "code",
   "execution_count": 2,
   "id": "157517d8",
   "metadata": {},
   "outputs": [],
   "source": [
    "#criando o banco de dados\n",
    "con = sqlite3.connect('ceps.db')\n",
    "cur = con.cursor()"
   ]
  },
  {
   "cell_type": "code",
   "execution_count": 3,
   "id": "0b37d778",
   "metadata": {},
   "outputs": [
    {
     "data": {
      "text/plain": [
       "<sqlite3.Cursor at 0x11f535ec1f0>"
      ]
     },
     "execution_count": 3,
     "metadata": {},
     "output_type": "execute_result"
    }
   ],
   "source": [
    "# criando tabela\n",
    "#cur.execute('''CREATE TABLE data\n",
    "#               (cep TEXT, logradouro TEXT, complemento TEXT, bairro TEXT, localidade TEXT, uf TEXT, ibge TEXT, ddd TEXT, siafi TEXT)''')\n",
    "\n",
    "# CRIEI UMA TABELA PARA ARMAZENAR OS NUMEROS QUE NÃO PUXAREM CEP TER CONTROLE SE FUNCIONOU\n",
    "#cur.execute('''CREATE TABLE datanull\n",
    "#               (cep TEXT)''')\n",
    "\n",
    "#cur.execute('''CREATE TABLE datasearche\n",
    "#              (tempo_inicial TEXT, tempo_final TEXT,tempo_total TEXT)''')"
   ]
  },
  {
   "cell_type": "markdown",
   "id": "31467a6d",
   "metadata": {},
   "source": [
    "#### DECIDI FAZER AOS POUCOS UMA VEZ QUE TODOS DE UMA VEZ SÓ VAI DEMORAR MUITO TEMPO TORNANDO A CHANCES DE PROBLEMAS DURANTE A EXECUÇÃO MAIORES LOGO PERDER TODO O PROGRESSO"
   ]
  },
  {
   "cell_type": "code",
   "execution_count": 3,
   "id": "01baa7f6",
   "metadata": {},
   "outputs": [
    {
     "ename": "NameError",
     "evalue": "name 'faixa_procura' is not defined",
     "output_type": "error",
     "traceback": [
      "\u001b[1;31m---------------------------------------------------------------------------\u001b[0m",
      "\u001b[1;31mNameError\u001b[0m                                 Traceback (most recent call last)",
      "\u001b[1;32m~\\AppData\\Local\\Temp/ipykernel_3676/3773963232.py\u001b[0m in \u001b[0;36m<module>\u001b[1;34m\u001b[0m\n\u001b[0;32m      1\u001b[0m \u001b[1;31m#def request_erro():\u001b[0m\u001b[1;33m\u001b[0m\u001b[1;33m\u001b[0m\u001b[0m\n\u001b[1;32m----> 2\u001b[1;33m \u001b[1;32mfor\u001b[0m \u001b[0mi\u001b[0m \u001b[1;32min\u001b[0m \u001b[0mfaixa_procura\u001b[0m\u001b[1;33m:\u001b[0m\u001b[1;33m\u001b[0m\u001b[1;33m\u001b[0m\u001b[0m\n\u001b[0m\u001b[0;32m      3\u001b[0m     \u001b[0mrequisicao\u001b[0m \u001b[1;33m=\u001b[0m \u001b[0mrequests\u001b[0m\u001b[1;33m.\u001b[0m\u001b[0mget\u001b[0m\u001b[1;33m(\u001b[0m\u001b[1;34mf'https://viacep.com.br/ws/95700066/json/'\u001b[0m\u001b[1;33m)\u001b[0m\u001b[1;33m\u001b[0m\u001b[1;33m\u001b[0m\u001b[0m\n\u001b[0;32m      4\u001b[0m     \u001b[0mtime\u001b[0m\u001b[1;33m.\u001b[0m\u001b[0msleep\u001b[0m\u001b[1;33m(\u001b[0m\u001b[1;36m1\u001b[0m\u001b[1;33m)\u001b[0m\u001b[1;33m\u001b[0m\u001b[1;33m\u001b[0m\u001b[0m\n\u001b[0;32m      5\u001b[0m     \u001b[0mrequisicao\u001b[0m \u001b[1;33m=\u001b[0m \u001b[0mrequisicao\u001b[0m\u001b[1;33m.\u001b[0m\u001b[0mjson\u001b[0m\u001b[1;33m(\u001b[0m\u001b[1;33m)\u001b[0m\u001b[1;33m\u001b[0m\u001b[1;33m\u001b[0m\u001b[0m\n",
      "\u001b[1;31mNameError\u001b[0m: name 'faixa_procura' is not defined"
     ]
    }
   ],
   "source": [
    "#def request_erro():\n",
    "for i in faixa_procura:\n",
    "    requisicao = requests.get(f'https://viacep.com.br/ws/95700066/json/')\n",
    "    time.sleep(1)\n",
    "    requisicao = requisicao.json()\n",
    "    print(requisicao)"
   ]
  },
  {
   "cell_type": "code",
   "execution_count": 6,
   "id": "323e18e1",
   "metadata": {},
   "outputs": [
    {
     "name": "stderr",
     "output_type": "stream",
     "text": [
      " 27%|██████████████████████▏                                                            | 4/15 [00:38<01:45,  9.62s/it]\n"
     ]
    },
    {
     "ename": "JSONDecodeError",
     "evalue": "Expecting value: line 1 column 1 (char 0)",
     "output_type": "error",
     "traceback": [
      "\u001b[1;31m---------------------------------------------------------------------------\u001b[0m",
      "\u001b[1;31mJSONDecodeError\u001b[0m                           Traceback (most recent call last)",
      "\u001b[1;32m~\\AppData\\Local\\Temp/ipykernel_3676/587781896.py\u001b[0m in \u001b[0;36m<module>\u001b[1;34m\u001b[0m\n\u001b[0;32m      8\u001b[0m         \u001b[0mrequisicao\u001b[0m \u001b[1;33m=\u001b[0m \u001b[0mrequests\u001b[0m\u001b[1;33m.\u001b[0m\u001b[0mget\u001b[0m\u001b[1;33m(\u001b[0m\u001b[1;34mf'https://viacep.com.br/ws/0000000{i}/json/'\u001b[0m\u001b[1;33m)\u001b[0m\u001b[1;33m\u001b[0m\u001b[1;33m\u001b[0m\u001b[0m\n\u001b[0;32m      9\u001b[0m         \u001b[0mtime\u001b[0m\u001b[1;33m.\u001b[0m\u001b[0msleep\u001b[0m\u001b[1;33m(\u001b[0m\u001b[1;36m2\u001b[0m\u001b[1;33m)\u001b[0m\u001b[1;33m\u001b[0m\u001b[1;33m\u001b[0m\u001b[0m\n\u001b[1;32m---> 10\u001b[1;33m         \u001b[0mrequisicao\u001b[0m \u001b[1;33m=\u001b[0m \u001b[0mrequisicao\u001b[0m\u001b[1;33m.\u001b[0m\u001b[0mjson\u001b[0m\u001b[1;33m(\u001b[0m\u001b[1;33m)\u001b[0m\u001b[1;33m\u001b[0m\u001b[1;33m\u001b[0m\u001b[0m\n\u001b[0m\u001b[0;32m     11\u001b[0m         \u001b[1;32mif\u001b[0m \u001b[0mrequisicao\u001b[0m\u001b[1;33m[\u001b[0m\u001b[1;34m'erro'\u001b[0m\u001b[1;33m]\u001b[0m \u001b[1;33m==\u001b[0m \u001b[1;32mTrue\u001b[0m\u001b[1;33m:\u001b[0m\u001b[1;33m\u001b[0m\u001b[1;33m\u001b[0m\u001b[0m\n\u001b[0;32m     12\u001b[0m             \u001b[0mcur\u001b[0m\u001b[1;33m.\u001b[0m\u001b[0mexecute\u001b[0m\u001b[1;33m(\u001b[0m\u001b[1;34m\"INSERT INTO datanull VALUES (?)\"\u001b[0m\u001b[1;33m,\u001b[0m\u001b[1;33m(\u001b[0m\u001b[1;33m[\u001b[0m\u001b[0mstr\u001b[0m\u001b[1;33m(\u001b[0m\u001b[0mi\u001b[0m\u001b[1;33m)\u001b[0m\u001b[1;33m]\u001b[0m\u001b[1;33m)\u001b[0m\u001b[1;33m)\u001b[0m\u001b[1;33m\u001b[0m\u001b[1;33m\u001b[0m\u001b[0m\n",
      "\u001b[1;32m~\\anaconda3\\lib\\site-packages\\requests\\models.py\u001b[0m in \u001b[0;36mjson\u001b[1;34m(self, **kwargs)\u001b[0m\n\u001b[0;32m    908\u001b[0m                     \u001b[1;31m# used.\u001b[0m\u001b[1;33m\u001b[0m\u001b[1;33m\u001b[0m\u001b[0m\n\u001b[0;32m    909\u001b[0m                     \u001b[1;32mpass\u001b[0m\u001b[1;33m\u001b[0m\u001b[1;33m\u001b[0m\u001b[0m\n\u001b[1;32m--> 910\u001b[1;33m         \u001b[1;32mreturn\u001b[0m \u001b[0mcomplexjson\u001b[0m\u001b[1;33m.\u001b[0m\u001b[0mloads\u001b[0m\u001b[1;33m(\u001b[0m\u001b[0mself\u001b[0m\u001b[1;33m.\u001b[0m\u001b[0mtext\u001b[0m\u001b[1;33m,\u001b[0m \u001b[1;33m**\u001b[0m\u001b[0mkwargs\u001b[0m\u001b[1;33m)\u001b[0m\u001b[1;33m\u001b[0m\u001b[1;33m\u001b[0m\u001b[0m\n\u001b[0m\u001b[0;32m    911\u001b[0m \u001b[1;33m\u001b[0m\u001b[0m\n\u001b[0;32m    912\u001b[0m     \u001b[1;33m@\u001b[0m\u001b[0mproperty\u001b[0m\u001b[1;33m\u001b[0m\u001b[1;33m\u001b[0m\u001b[0m\n",
      "\u001b[1;32m~\\anaconda3\\lib\\json\\__init__.py\u001b[0m in \u001b[0;36mloads\u001b[1;34m(s, cls, object_hook, parse_float, parse_int, parse_constant, object_pairs_hook, **kw)\u001b[0m\n\u001b[0;32m    344\u001b[0m             \u001b[0mparse_int\u001b[0m \u001b[1;32mis\u001b[0m \u001b[1;32mNone\u001b[0m \u001b[1;32mand\u001b[0m \u001b[0mparse_float\u001b[0m \u001b[1;32mis\u001b[0m \u001b[1;32mNone\u001b[0m \u001b[1;32mand\u001b[0m\u001b[1;33m\u001b[0m\u001b[1;33m\u001b[0m\u001b[0m\n\u001b[0;32m    345\u001b[0m             parse_constant is None and object_pairs_hook is None and not kw):\n\u001b[1;32m--> 346\u001b[1;33m         \u001b[1;32mreturn\u001b[0m \u001b[0m_default_decoder\u001b[0m\u001b[1;33m.\u001b[0m\u001b[0mdecode\u001b[0m\u001b[1;33m(\u001b[0m\u001b[0ms\u001b[0m\u001b[1;33m)\u001b[0m\u001b[1;33m\u001b[0m\u001b[1;33m\u001b[0m\u001b[0m\n\u001b[0m\u001b[0;32m    347\u001b[0m     \u001b[1;32mif\u001b[0m \u001b[0mcls\u001b[0m \u001b[1;32mis\u001b[0m \u001b[1;32mNone\u001b[0m\u001b[1;33m:\u001b[0m\u001b[1;33m\u001b[0m\u001b[1;33m\u001b[0m\u001b[0m\n\u001b[0;32m    348\u001b[0m         \u001b[0mcls\u001b[0m \u001b[1;33m=\u001b[0m \u001b[0mJSONDecoder\u001b[0m\u001b[1;33m\u001b[0m\u001b[1;33m\u001b[0m\u001b[0m\n",
      "\u001b[1;32m~\\anaconda3\\lib\\json\\decoder.py\u001b[0m in \u001b[0;36mdecode\u001b[1;34m(self, s, _w)\u001b[0m\n\u001b[0;32m    335\u001b[0m \u001b[1;33m\u001b[0m\u001b[0m\n\u001b[0;32m    336\u001b[0m         \"\"\"\n\u001b[1;32m--> 337\u001b[1;33m         \u001b[0mobj\u001b[0m\u001b[1;33m,\u001b[0m \u001b[0mend\u001b[0m \u001b[1;33m=\u001b[0m \u001b[0mself\u001b[0m\u001b[1;33m.\u001b[0m\u001b[0mraw_decode\u001b[0m\u001b[1;33m(\u001b[0m\u001b[0ms\u001b[0m\u001b[1;33m,\u001b[0m \u001b[0midx\u001b[0m\u001b[1;33m=\u001b[0m\u001b[0m_w\u001b[0m\u001b[1;33m(\u001b[0m\u001b[0ms\u001b[0m\u001b[1;33m,\u001b[0m \u001b[1;36m0\u001b[0m\u001b[1;33m)\u001b[0m\u001b[1;33m.\u001b[0m\u001b[0mend\u001b[0m\u001b[1;33m(\u001b[0m\u001b[1;33m)\u001b[0m\u001b[1;33m)\u001b[0m\u001b[1;33m\u001b[0m\u001b[1;33m\u001b[0m\u001b[0m\n\u001b[0m\u001b[0;32m    338\u001b[0m         \u001b[0mend\u001b[0m \u001b[1;33m=\u001b[0m \u001b[0m_w\u001b[0m\u001b[1;33m(\u001b[0m\u001b[0ms\u001b[0m\u001b[1;33m,\u001b[0m \u001b[0mend\u001b[0m\u001b[1;33m)\u001b[0m\u001b[1;33m.\u001b[0m\u001b[0mend\u001b[0m\u001b[1;33m(\u001b[0m\u001b[1;33m)\u001b[0m\u001b[1;33m\u001b[0m\u001b[1;33m\u001b[0m\u001b[0m\n\u001b[0;32m    339\u001b[0m         \u001b[1;32mif\u001b[0m \u001b[0mend\u001b[0m \u001b[1;33m!=\u001b[0m \u001b[0mlen\u001b[0m\u001b[1;33m(\u001b[0m\u001b[0ms\u001b[0m\u001b[1;33m)\u001b[0m\u001b[1;33m:\u001b[0m\u001b[1;33m\u001b[0m\u001b[1;33m\u001b[0m\u001b[0m\n",
      "\u001b[1;32m~\\anaconda3\\lib\\json\\decoder.py\u001b[0m in \u001b[0;36mraw_decode\u001b[1;34m(self, s, idx)\u001b[0m\n\u001b[0;32m    353\u001b[0m             \u001b[0mobj\u001b[0m\u001b[1;33m,\u001b[0m \u001b[0mend\u001b[0m \u001b[1;33m=\u001b[0m \u001b[0mself\u001b[0m\u001b[1;33m.\u001b[0m\u001b[0mscan_once\u001b[0m\u001b[1;33m(\u001b[0m\u001b[0ms\u001b[0m\u001b[1;33m,\u001b[0m \u001b[0midx\u001b[0m\u001b[1;33m)\u001b[0m\u001b[1;33m\u001b[0m\u001b[1;33m\u001b[0m\u001b[0m\n\u001b[0;32m    354\u001b[0m         \u001b[1;32mexcept\u001b[0m \u001b[0mStopIteration\u001b[0m \u001b[1;32mas\u001b[0m \u001b[0merr\u001b[0m\u001b[1;33m:\u001b[0m\u001b[1;33m\u001b[0m\u001b[1;33m\u001b[0m\u001b[0m\n\u001b[1;32m--> 355\u001b[1;33m             \u001b[1;32mraise\u001b[0m \u001b[0mJSONDecodeError\u001b[0m\u001b[1;33m(\u001b[0m\u001b[1;34m\"Expecting value\"\u001b[0m\u001b[1;33m,\u001b[0m \u001b[0ms\u001b[0m\u001b[1;33m,\u001b[0m \u001b[0merr\u001b[0m\u001b[1;33m.\u001b[0m\u001b[0mvalue\u001b[0m\u001b[1;33m)\u001b[0m \u001b[1;32mfrom\u001b[0m \u001b[1;32mNone\u001b[0m\u001b[1;33m\u001b[0m\u001b[1;33m\u001b[0m\u001b[0m\n\u001b[0m\u001b[0;32m    356\u001b[0m         \u001b[1;32mreturn\u001b[0m \u001b[0mobj\u001b[0m\u001b[1;33m,\u001b[0m \u001b[0mend\u001b[0m\u001b[1;33m\u001b[0m\u001b[1;33m\u001b[0m\u001b[0m\n",
      "\u001b[1;31mJSONDecodeError\u001b[0m: Expecting value: line 1 column 1 (char 0)"
     ]
    }
   ],
   "source": [
    "faixa_procura = range(15)\n",
    "pbar = tqdm(total=len(faixa_procura), position=0, leave=True)\n",
    "cep_requisição = []\n",
    "tempo_inicial = time.time()\n",
    "for i in faixa_procura:\n",
    "    pbar.update()\n",
    "    if 8 - len(str(i)) == 7:\n",
    "        requisicao = requests.get(f'https://viacep.com.br/ws/0000000{i}/json/')\n",
    "        time.sleep(2)\n",
    "        requisicao = requisicao.json()\n",
    "        if requisicao['erro'] == True:\n",
    "            cur.execute(\"INSERT INTO datanull VALUES (?)\",([str(i)]))\n",
    "        else:\n",
    "            ceps = requisicao['cep']\n",
    "            ceps = ceps.replace('-','')\n",
    "            logradouro = requisicao['logradouro']\n",
    "            complemento = requisicao['complemento']\n",
    "            bairro = requisicao['bairro']\n",
    "            localidade = requisicao['localidade']\n",
    "            uf = requisicao['uf']\n",
    "            ibge = requisicao['ibge']\n",
    "            gia = requisicao['gia']\n",
    "            ddd = requisicao['ddd']\n",
    "            siafi = requisicao['siafi']\n",
    "            cur.execute(\"INSERT INTO data VALUES (?,?,?,?,?,?,?,?,?)\",(ceps, logradouro, complemento, bairro, localidade,uf,ibge,ddd,siafi))\n",
    "    elif 8 - len(str(i)) == 6:\n",
    "        requisicao = requests.get(f'https://viacep.com.br/ws/000000{i}/json/')\n",
    "        time.sleep(2)\n",
    "        requisicao = requisicao.json()\n",
    "        if requisicao['erro'] == True:\n",
    "            cur.execute(\"INSERT INTO datanull VALUES (?)\",([str(i)]))\n",
    "        else:\n",
    "            ceps = requisicao['cep']\n",
    "            ceps = ceps.replace('-','')\n",
    "            logradouro = requisicao['logradouro']\n",
    "            complemento = requisicao['complemento']\n",
    "            bairro = requisicao['bairro']\n",
    "            localidade = requisicao['localidade']\n",
    "            uf = requisicao['uf']\n",
    "            ibge = requisicao['ibge']\n",
    "            gia = requisicao['gia']\n",
    "            ddd = requisicao['ddd']\n",
    "            siafi = requisicao['siafi']\n",
    "            cur.execute(\"INSERT INTO data VALUES (?,?,?,?,?,?,?,?,?)\",(ceps, logradouro, complemento, bairro, localidade,uf,ibge,ddd,siafi))\n",
    "    elif 8 - len(str(i)) == 5:\n",
    "        requisicao = requests.get(f'https://viacep.com.br/ws/00000{i}/json/')\n",
    "        time.sleep(2)\n",
    "        requisicao = requisicao.json()\n",
    "        if requisicao['erro'] == True:\n",
    "            cur.execute(\"INSERT INTO datanull VALUES (?)\",([str(i)]))\n",
    "        else:\n",
    "            ceps = requisicao['cep']\n",
    "            ceps = ceps.replace('-','')\n",
    "            logradouro = requisicao['logradouro']\n",
    "            complemento = requisicao['complemento']\n",
    "            bairro = requisicao['bairro']\n",
    "            localidade = requisicao['localidade']\n",
    "            uf = requisicao['uf']\n",
    "            ibge = requisicao['ibge']\n",
    "            gia = requisicao['gia']\n",
    "            ddd = requisicao['ddd']\n",
    "            siafi = requisicao['siafi']\n",
    "            cur.execute(\"INSERT INTO data VALUES (?,?,?,?,?,?,?,?,?)\",(ceps, logradouro, complemento, bairro, localidade,uf,ibge,ddd,siafi))\n",
    "    elif 8 - len(str(i)) == 4:     \n",
    "        requisicao = requests.get(f'https://viacep.com.br/ws/0000{i}/json/')\n",
    "        requisicao = requisicao.json()\n",
    "        if requisicao['erro'] == True:\n",
    "            cur.execute(\"INSERT INTO datanull VALUES (?)\",([str(i)]))\n",
    "        else:\n",
    "            ceps = requisicao['cep']\n",
    "            ceps = ceps.replace('-','')\n",
    "            logradouro = requisicao['logradouro']\n",
    "            complemento = requisicao['complemento']\n",
    "            bairro = requisicao['bairro']\n",
    "            localidade = requisicao['localidade']\n",
    "            uf = requisicao['uf']\n",
    "            ibge = requisicao['ibge']\n",
    "            gia = requisicao['gia']\n",
    "            ddd = requisicao['ddd']\n",
    "            siafi = requisicao['siafi']\n",
    "            cur.execute(\"INSERT INTO data VALUES (?,?,?,?,?,?,?,?,?)\",(ceps, logradouro, complemento, bairro, localidade,uf,ibge,ddd,siafi))\n",
    "    elif 8 - len(str(i)) == 3:\n",
    "        requisicao = requests.get(f'https://viacep.com.br/ws/000{i}/json/')\n",
    "        time.sleep(2)\n",
    "        requisicao = requisicao.json()\n",
    "        if requisicao['erro'] == True:\n",
    "            cur.execute(\"INSERT INTO datanull VALUES (?)\",([str(i)]))\n",
    "        else:\n",
    "            ceps = requisicao['cep']\n",
    "            ceps = ceps.replace('-','')\n",
    "            logradouro = requisicao['logradouro']\n",
    "            complemento = requisicao['complemento']\n",
    "            bairro = requisicao['bairro']\n",
    "            localidade = requisicao['localidade']\n",
    "            uf = requisicao['uf']\n",
    "            ibge = requisicao['ibge']\n",
    "            gia = requisicao['gia']\n",
    "            ddd = requisicao['ddd']\n",
    "            siafi = requisicao['siafi']\n",
    "            cur.execute(\"INSERT INTO data VALUES (?,?,?,?,?,?,?,?,?)\",(ceps, logradouro, complemento, bairro, localidade,uf,ibge,ddd,siafi))\n",
    "    elif 8 - len(str(i)) == 2:\n",
    "        requisicao = requests.get(f'https://viacep.com.br/ws/00{i}/json/')\n",
    "        time.sleep(2)\n",
    "        requisicao = requisicao.json()\n",
    "        if requisicao['erro'] == True:\n",
    "            cur.execute(\"INSERT INTO datanull VALUES (?)\",([str(i)]))\n",
    "        else:\n",
    "            ceps = requisicao['cep']\n",
    "            ceps = ceps.replace('-','')\n",
    "            logradouro = requisicao['logradouro']\n",
    "            complemento = requisicao['complemento']\n",
    "            bairro = requisicao['bairro']\n",
    "            localidade = requisicao['localidade']\n",
    "            uf = requisicao['uf']\n",
    "            ibge = requisicao['ibge']\n",
    "            gia = requisicao['gia']\n",
    "            ddd = requisicao['ddd']\n",
    "            siafi = requisicao['siafi']\n",
    "            cur.execute(\"INSERT INTO data VALUES (?,?,?,?,?,?,?,?,?)\",(ceps, logradouro, complemento, bairro, localidade,uf,ibge,ddd,siafi))\n",
    "    elif 8 - len(str(i)) == 0:\n",
    "        requisicao = requests.get(f'https://viacep.com.br/ws/{i}/json/')\n",
    "        time.sleep(2)\n",
    "        requisicao = requisicao.json()\n",
    "        if requisicao['erro'] == True:\n",
    "            cur.execute(\"INSERT INTO datanull VALUES (?)\",([str(i)]))\n",
    "            print(requisicao['erro'])\n",
    "        else:\n",
    "            ceps = requisicao['cep']\n",
    "            ceps = ceps.replace('-','')\n",
    "            logradouro = requisicao['logradouro']\n",
    "            complemento = requisicao['complemento']\n",
    "            bairro = requisicao['bairro']\n",
    "            localidade = requisicao['localidade']\n",
    "            uf = requisicao['uf']\n",
    "            ibge = requisicao['ibge']\n",
    "            gia = requisicao['gia']\n",
    "            ddd = requisicao['ddd']\n",
    "            siafi = requisicao['siafi']\n",
    "            cur.execute(\"INSERT INTO data VALUES (?,?,?,?,?,?,?,?,?)\",(ceps, logradouro, complemento, bairro, localidade,uf,ibge,ddd,siafi))\n",
    "    time.sleep(10)"
   ]
  },
  {
   "cell_type": "code",
   "execution_count": 5,
   "id": "0c921875",
   "metadata": {},
   "outputs": [],
   "source": [
    "con.commit()"
   ]
  },
  {
   "cell_type": "code",
   "execution_count": 19,
   "id": "9effd04b",
   "metadata": {},
   "outputs": [],
   "source": [
    "con.close()"
   ]
  }
 ],
 "metadata": {
  "kernelspec": {
   "display_name": "Python 3 (ipykernel)",
   "language": "python",
   "name": "python3"
  },
  "language_info": {
   "codemirror_mode": {
    "name": "ipython",
    "version": 3
   },
   "file_extension": ".py",
   "mimetype": "text/x-python",
   "name": "python",
   "nbconvert_exporter": "python",
   "pygments_lexer": "ipython3",
   "version": "3.9.7"
  }
 },
 "nbformat": 4,
 "nbformat_minor": 5
}
