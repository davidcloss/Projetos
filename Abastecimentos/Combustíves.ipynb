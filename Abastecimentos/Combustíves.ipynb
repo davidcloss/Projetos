{
 "cells": [
  {
   "cell_type": "code",
   "execution_count": 1,
   "id": "8eedfa79",
   "metadata": {},
   "outputs": [],
   "source": [
    "import pandas as pd\n",
    "from glob import glob"
   ]
  },
  {
   "cell_type": "code",
   "execution_count": 4,
   "id": "428cac98",
   "metadata": {},
   "outputs": [],
   "source": [
    "arq1 = pd.read_excel(r'C:\\Users\\Ross Geller\\Documents\\MEGAsync\\data_science\\project\\Combustíveis\\RFCVTITULO_95374_20220225_151551.XLS')\n",
    "arq2 = pd.read_excel(r'C:\\Users\\Ross Geller\\Documents\\MEGAsync\\data_science\\project\\Combustíveis\\RFCVTITULO_95374_20220225_151602.XLS')\n",
    "arq3 = pd.read_excel(r'C:\\Users\\Ross Geller\\Documents\\MEGAsync\\data_science\\project\\Combustíveis\\RFCVTITULO_95374_20220225_151609.XLS')\n",
    "arq3 = pd.read_excel(r'C:\\Users\\Ross Geller\\Documents\\MEGAsync\\data_science\\project\\Combustíveis\\RFCVTITULO_95374_20220225_151614.XLS')\n",
    "arq3 = pd.read_excel(r'C:\\Users\\Ross Geller\\Documents\\MEGAsync\\data_science\\project\\Combustíveis\\RFCVTITULO_95374_20220225_151614.XLS')\n",
    "arq4 = pd.read_excel(r'C:\\Users\\Ross Geller\\Documents\\MEGAsync\\data_science\\project\\Combustíveis\\RFCVTITULO_95374_20220225_151617.XLS')\n",
    "arq5 = pd.read_excel(r'C:\\Users\\Ross Geller\\Documents\\MEGAsync\\data_science\\project\\Combustíveis\\RFCVTITULO_95374_20220225_164837.XLS')\n",
    "arq6 = pd.read_excel(r'C:\\Users\\Ross Geller\\Documents\\MEGAsync\\data_science\\project\\Combustíveis\\RFCVTITULO_95374_20220225_164843.XLS')\n",
    "arq7 = pd.read_excel(r'C:\\Users\\Ross Geller\\Documents\\MEGAsync\\data_science\\project\\Combustíveis\\RFCVTITULO_95374_20220225_164849.XLS')\n",
    "arq8 = pd.read_excel(r'C:\\Users\\Ross Geller\\Documents\\MEGAsync\\data_science\\project\\Combustíveis\\RFCVTITULO_95374_20220225_164855.XLS')\n",
    "arq9 = pd.read_excel(r'C:\\Users\\Ross Geller\\Documents\\MEGAsync\\data_science\\project\\Combustíveis\\RFCVTITULO_95374_20220225_164859.XLS')\n",
    "arq10 = pd.read_excel(r'C:\\Users\\Ross Geller\\Documents\\MEGAsync\\data_science\\project\\Combustíveis\\RFCVTITULO_95374_20220307_091302.XLS')"
   ]
  },
  {
   "cell_type": "code",
   "execution_count": 3,
   "id": "ebd5e828",
   "metadata": {},
   "outputs": [],
   "source": [
    "## Fórmula do Drop: .drop(['Transacao','Responsavel','Tipo','Liberacao Restricao','Matricula','Horas Trabalhadas','Horas','Litros/Hora','Ordem de Servico','Emissora','InformacaoAdicional1Veiculo','InformacaoAdicional2Veiculo','InformacaoAdicional3Veiculo','InformacaoAdicional4Veiculo','InformacaoAdicional5Veiculo','InformacaoAdicional1Motorista','InformacaoAdicional2Motorista','InformacaoAdicional3Motorista','InformacaoAdicional4Motorista','InformacaoAdicional5Motorista','Numero Externo'], axis='columns')\n"
   ]
  },
  {
   "cell_type": "code",
   "execution_count": 5,
   "id": "681b1aef",
   "metadata": {},
   "outputs": [],
   "source": [
    "arq1 = arq1.drop(['Transacao','Responsavel','Tipo','Liberacao Restricao','Matricula','Horas Trabalhadas','Horas','Litros/Hora','Ordem de Servico','Emissora','InformacaoAdicional1Veiculo','InformacaoAdicional2Veiculo','InformacaoAdicional3Veiculo','InformacaoAdicional4Veiculo','InformacaoAdicional5Veiculo','InformacaoAdicional1Motorista','InformacaoAdicional2Motorista','InformacaoAdicional3Motorista','InformacaoAdicional4Motorista','InformacaoAdicional5Motorista','Numero Externo'], axis='columns')\n",
    "arq2 = arq2.drop(['Transacao','Responsavel','Tipo','Liberacao Restricao','Matricula','Horas Trabalhadas','Horas','Litros/Hora','Ordem de Servico','Emissora','InformacaoAdicional1Veiculo','InformacaoAdicional2Veiculo','InformacaoAdicional3Veiculo','InformacaoAdicional4Veiculo','InformacaoAdicional5Veiculo','InformacaoAdicional1Motorista','InformacaoAdicional2Motorista','InformacaoAdicional3Motorista','InformacaoAdicional4Motorista','InformacaoAdicional5Motorista','Numero Externo'], axis='columns')\n",
    "arq3 = arq3.drop(['Transacao','Responsavel','Tipo','Liberacao Restricao','Matricula','Horas Trabalhadas','Horas','Litros/Hora','Ordem de Servico','Emissora','InformacaoAdicional1Veiculo','InformacaoAdicional2Veiculo','InformacaoAdicional3Veiculo','InformacaoAdicional4Veiculo','InformacaoAdicional5Veiculo','InformacaoAdicional1Motorista','InformacaoAdicional2Motorista','InformacaoAdicional3Motorista','InformacaoAdicional4Motorista','InformacaoAdicional5Motorista','Numero Externo'], axis='columns')\n",
    "arq4 = arq4.drop(['Transacao','Responsavel','Tipo','Liberacao Restricao','Matricula','Horas Trabalhadas','Horas','Litros/Hora','Ordem de Servico','Emissora','InformacaoAdicional1Veiculo','InformacaoAdicional2Veiculo','InformacaoAdicional3Veiculo','InformacaoAdicional4Veiculo','InformacaoAdicional5Veiculo','InformacaoAdicional1Motorista','InformacaoAdicional2Motorista','InformacaoAdicional3Motorista','InformacaoAdicional4Motorista','InformacaoAdicional5Motorista','Numero Externo'], axis='columns')\n",
    "arq5 = arq5.drop(['Transacao','Responsavel','Tipo','Liberacao Restricao','Matricula','Horas Trabalhadas','Horas','Litros/Hora','Ordem de Servico','Emissora','InformacaoAdicional1Veiculo','InformacaoAdicional2Veiculo','InformacaoAdicional3Veiculo','InformacaoAdicional4Veiculo','InformacaoAdicional5Veiculo','InformacaoAdicional1Motorista','InformacaoAdicional2Motorista','InformacaoAdicional3Motorista','InformacaoAdicional4Motorista','InformacaoAdicional5Motorista','Numero Externo'], axis='columns')\n",
    "arq6 = arq6.drop(['Transacao','Responsavel','Tipo','Liberacao Restricao','Matricula','Horas Trabalhadas','Horas','Litros/Hora','Ordem de Servico','Emissora','InformacaoAdicional1Veiculo','InformacaoAdicional2Veiculo','InformacaoAdicional3Veiculo','InformacaoAdicional4Veiculo','InformacaoAdicional5Veiculo','InformacaoAdicional1Motorista','InformacaoAdicional2Motorista','InformacaoAdicional3Motorista','InformacaoAdicional4Motorista','InformacaoAdicional5Motorista','Numero Externo'], axis='columns')\n",
    "arq7 = arq7.drop(['Transacao','Responsavel','Tipo','Liberacao Restricao','Matricula','Horas Trabalhadas','Horas','Litros/Hora','Ordem de Servico','Emissora','InformacaoAdicional1Veiculo','InformacaoAdicional2Veiculo','InformacaoAdicional3Veiculo','InformacaoAdicional4Veiculo','InformacaoAdicional5Veiculo','InformacaoAdicional1Motorista','InformacaoAdicional2Motorista','InformacaoAdicional3Motorista','InformacaoAdicional4Motorista','InformacaoAdicional5Motorista','Numero Externo'], axis='columns')\n",
    "arq8 = arq8.drop(['Transacao','Responsavel','Tipo','Liberacao Restricao','Matricula','Horas Trabalhadas','Horas','Litros/Hora','Ordem de Servico','Emissora','InformacaoAdicional1Veiculo','InformacaoAdicional2Veiculo','InformacaoAdicional3Veiculo','InformacaoAdicional4Veiculo','InformacaoAdicional5Veiculo','InformacaoAdicional1Motorista','InformacaoAdicional2Motorista','InformacaoAdicional3Motorista','InformacaoAdicional4Motorista','InformacaoAdicional5Motorista','Numero Externo'], axis='columns')\n",
    "arq9 = arq9.drop(['Transacao','Responsavel','Tipo','Liberacao Restricao','Matricula','Horas Trabalhadas','Horas','Litros/Hora','Ordem de Servico','Emissora','InformacaoAdicional1Veiculo','InformacaoAdicional2Veiculo','InformacaoAdicional3Veiculo','InformacaoAdicional4Veiculo','InformacaoAdicional5Veiculo','InformacaoAdicional1Motorista','InformacaoAdicional2Motorista','InformacaoAdicional3Motorista','InformacaoAdicional4Motorista','InformacaoAdicional5Motorista','Numero Externo'], axis='columns')\n",
    "arq10 = arq10.drop(['Transacao','Responsavel','Tipo','Liberacao Restricao','Matricula','Horas Trabalhadas','Horas','Litros/Hora','Ordem de Servico','Emissora','InformacaoAdicional1Veiculo','InformacaoAdicional2Veiculo','InformacaoAdicional3Veiculo','InformacaoAdicional4Veiculo','InformacaoAdicional5Veiculo','InformacaoAdicional1Motorista','InformacaoAdicional2Motorista','InformacaoAdicional3Motorista','InformacaoAdicional4Motorista','InformacaoAdicional5Motorista','Numero Externo'], axis='columns')"
   ]
  },
  {
   "cell_type": "code",
   "execution_count": 6,
   "id": "7beef2f7",
   "metadata": {},
   "outputs": [],
   "source": [
    "arq = pd.concat([arq1,arq2,arq3,arq4,arq5,arq6,arq7,arq8,arq9,arq10], ignore_index=True)"
   ]
  },
  {
   "cell_type": "code",
   "execution_count": 7,
   "id": "af856588",
   "metadata": {
    "scrolled": true
   },
   "outputs": [],
   "source": [
    "abastecimentos_mauro = arq[arq['Motorista'] == 'MAURO SILVA']\n",
    "abastecimentos_luis = arq[arq['Motorista'] == 'LUIS HENRIQUE MACIEL']"
   ]
  },
  {
   "cell_type": "code",
   "execution_count": 8,
   "id": "b86f1d42",
   "metadata": {},
   "outputs": [
    {
     "name": "stderr",
     "output_type": "stream",
     "text": [
      "<ipython-input-8-dc36363b5e66>:1: FutureWarning: As the xlwt package is no longer maintained, the xlwt engine will be removed in a future version of pandas. This is the only engine in pandas that supports writing in the xls format. Install openpyxl and write to an xlsx file instead. You can set the option io.excel.xls.writer to 'xlwt' to silence this warning. While this option is deprecated and will also raise a warning, it can be globally set and the warning suppressed.\n",
      "  abastecimentos_mauro.to_excel('Abastecimentos_Mauro.xls')\n",
      "<ipython-input-8-dc36363b5e66>:2: FutureWarning: As the xlwt package is no longer maintained, the xlwt engine will be removed in a future version of pandas. This is the only engine in pandas that supports writing in the xls format. Install openpyxl and write to an xlsx file instead. You can set the option io.excel.xls.writer to 'xlwt' to silence this warning. While this option is deprecated and will also raise a warning, it can be globally set and the warning suppressed.\n",
      "  abastecimentos_luis.to_excel('Abastecimentos_Luis.xls')\n"
     ]
    }
   ],
   "source": [
    "abastecimentos_mauro.to_excel('Abastecimentos_Mauro.xls')\n",
    "abastecimentos_luis.to_excel('Abastecimentos_Luis.xls')"
   ]
  },
  {
   "cell_type": "code",
   "execution_count": 9,
   "id": "7925d290",
   "metadata": {},
   "outputs": [
    {
     "data": {
      "text/plain": [
       "Motorista\n",
       "ADERSON PEREIRA DE MIRANDA NETO           9500.22\n",
       "ADILSON RODRIGO OLIVEIRA SISNANDES       68242.44\n",
       "ALEX CESAR VIEIRA LESINHVSKI             24921.71\n",
       "ALEX SANDRO VALTER SOUZA DE ALMEIDA      10015.03\n",
       "AMILTON TOLDO FILHO                      10145.63\n",
       "ANTONIO APARECIDO DA SILVA               28284.17\n",
       "ANTONIO CESAR TEIXEIRA                    2367.56\n",
       "ANTONIO JULIO DA CONCEICAO NUNES          8234.76\n",
       "CELIO SANTOS SOUSA                       35621.67\n",
       "CLAUDEMIR LEMES                          43382.76\n",
       "CLEVERSON DE OLIVEIRA                    18523.65\n",
       "DAVI MEDEIROS                            41117.49\n",
       "EDER LORENO ALVES FERREIRA DA SILVA       5597.65\n",
       "EDILSON DA SILVA DIAS                     4008.24\n",
       "EDSON VICENTE FARIAS                      9857.66\n",
       "EMERSON JACI                              9712.85\n",
       "EMERSON JOSE BRITO BORGES                 5110.29\n",
       "FRANCISCO RIBEIRO DAS NEVES               9049.36\n",
       "GERSON ANDRE WELTER                       7659.09\n",
       "GEVERTON MICHEL SALBEGO ALEXANDRE         9484.62\n",
       "GILMAR ARAUJO DA SILVA                    5556.92\n",
       "IVAN DO NASCIMENTO CARDOSO                3879.22\n",
       "JORGE SANTOS                             11259.89\n",
       "JOSE EDNILSON DA SILVA                    8206.48\n",
       "JOSIMAR ALVES DE OLIVEIRA                 8279.71\n",
       "LEANDRO MOYANO DA VIDA                   42684.73\n",
       "LUIS HENRIQUE MACIEL                      3537.60\n",
       "MANOEL MARCELINO DA SILVA                 4869.16\n",
       "MARLON DA COSTA PONTEL                   10167.27\n",
       "MAURI NILSON PEREGO                       1243.87\n",
       "MAURO SILVA                                389.55\n",
       "MIGUEL SANTOS SOUZA                      12660.44\n",
       "MOACIR SILVA SANTOS                       3321.50\n",
       "ONOFRE ESCOBAR DA LUZ                    32035.45\n",
       "PAULO LUCIANO PERUZI VIVIANI             11936.43\n",
       "RAFAEL FERNANDO DE AQUINO                 6444.07\n",
       "RICARDO MIQUELETTO                        8037.42\n",
       "ROBERVAL DORIA ALVES                       963.04\n",
       "SINALDO MANOEL DA SILVA                   7366.81\n",
       "THIAGO NATHAN DE SANTOS LIMA              2423.17\n",
       "VANDERSON MIGUEL DE PAULA DO AMARANTE     6808.94\n",
       "VANDUIR CARLOS DA SILVA                  74888.86\n",
       "WELINTON FERNANDO MORENO SENNA           36156.35\n",
       "Name: Valor, dtype: float64"
      ]
     },
     "metadata": {},
     "output_type": "display_data"
    }
   ],
   "source": [
    "display(arq.groupby('Motorista')['Valor'].sum())\n"
   ]
  }
 ],
 "metadata": {
  "kernelspec": {
   "display_name": "Python 3",
   "language": "python",
   "name": "python3"
  },
  "language_info": {
   "codemirror_mode": {
    "name": "ipython",
    "version": 3
   },
   "file_extension": ".py",
   "mimetype": "text/x-python",
   "name": "python",
   "nbconvert_exporter": "python",
   "pygments_lexer": "ipython3",
   "version": "3.8.8"
  }
 },
 "nbformat": 4,
 "nbformat_minor": 5
}
