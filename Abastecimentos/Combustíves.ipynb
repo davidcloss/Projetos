{
 "cells": [
  {
   "cell_type": "code",
   "execution_count": 1,
   "id": "8eedfa79",
   "metadata": {},
   "outputs": [],
   "source": [
    "import numpy as np\n",
    "import pandas as pd"
   ]
  },
  {
   "cell_type": "code",
   "execution_count": 2,
   "id": "428cac98",
   "metadata": {},
   "outputs": [],
   "source": [
    "arq1 = pd.read_excel('RFCVTITULO_95374_20220225_151551.XLS')\n",
    "arq2 = pd.read_excel('RFCVTITULO_95374_20220225_151602.XLS')\n",
    "arq3 = pd.read_excel('RFCVTITULO_95374_20220225_151609.XLS')\n",
    "arq3 = pd.read_excel('RFCVTITULO_95374_20220225_151614.XLS')\n",
    "arq4 = pd.read_excel('RFCVTITULO_95374_20220225_151617.XLS')\n",
    "arq5 = pd.read_excel('RFCVTITULO_95374_20220225_164837.XLS')\n",
    "arq6 = pd.read_excel('RFCVTITULO_95374_20220225_164843.XLS')\n",
    "arq7 = pd.read_excel('RFCVTITULO_95374_20220225_164849.XLS')\n",
    "arq8 = pd.read_excel('RFCVTITULO_95374_20220225_164855.XLS')\n",
    "arq9 = pd.read_excel('RFCVTITULO_95374_20220225_164859.XLS')"
   ]
  },
  {
   "cell_type": "code",
   "execution_count": 3,
   "id": "ebd5e828",
   "metadata": {},
   "outputs": [],
   "source": [
    "## Fórmula do Drop: .drop(['Transacao','Responsavel','Tipo','Liberacao Restricao','Matricula','Horas Trabalhadas','Horas','Litros/Hora','Ordem de Servico','Emissora','InformacaoAdicional1Veiculo','InformacaoAdicional2Veiculo','InformacaoAdicional3Veiculo','InformacaoAdicional4Veiculo','InformacaoAdicional5Veiculo','InformacaoAdicional1Motorista','InformacaoAdicional2Motorista','InformacaoAdicional3Motorista','InformacaoAdicional4Motorista','InformacaoAdicional5Motorista','Numero Externo'], axis='columns')\n"
   ]
  },
  {
   "cell_type": "code",
   "execution_count": 4,
   "id": "681b1aef",
   "metadata": {},
   "outputs": [],
   "source": [
    "arq1 = arq1.drop(['Transacao','Responsavel','Tipo','Liberacao Restricao','Matricula','Horas Trabalhadas','Horas','Litros/Hora','Ordem de Servico','Emissora','InformacaoAdicional1Veiculo','InformacaoAdicional2Veiculo','InformacaoAdicional3Veiculo','InformacaoAdicional4Veiculo','InformacaoAdicional5Veiculo','InformacaoAdicional1Motorista','InformacaoAdicional2Motorista','InformacaoAdicional3Motorista','InformacaoAdicional4Motorista','InformacaoAdicional5Motorista','Numero Externo'], axis='columns')\n",
    "arq2 = arq2.drop(['Transacao','Responsavel','Tipo','Liberacao Restricao','Matricula','Horas Trabalhadas','Horas','Litros/Hora','Ordem de Servico','Emissora','InformacaoAdicional1Veiculo','InformacaoAdicional2Veiculo','InformacaoAdicional3Veiculo','InformacaoAdicional4Veiculo','InformacaoAdicional5Veiculo','InformacaoAdicional1Motorista','InformacaoAdicional2Motorista','InformacaoAdicional3Motorista','InformacaoAdicional4Motorista','InformacaoAdicional5Motorista','Numero Externo'], axis='columns')\n",
    "arq3 = arq3.drop(['Transacao','Responsavel','Tipo','Liberacao Restricao','Matricula','Horas Trabalhadas','Horas','Litros/Hora','Ordem de Servico','Emissora','InformacaoAdicional1Veiculo','InformacaoAdicional2Veiculo','InformacaoAdicional3Veiculo','InformacaoAdicional4Veiculo','InformacaoAdicional5Veiculo','InformacaoAdicional1Motorista','InformacaoAdicional2Motorista','InformacaoAdicional3Motorista','InformacaoAdicional4Motorista','InformacaoAdicional5Motorista','Numero Externo'], axis='columns')\n",
    "arq4 = arq4.drop(['Transacao','Responsavel','Tipo','Liberacao Restricao','Matricula','Horas Trabalhadas','Horas','Litros/Hora','Ordem de Servico','Emissora','InformacaoAdicional1Veiculo','InformacaoAdicional2Veiculo','InformacaoAdicional3Veiculo','InformacaoAdicional4Veiculo','InformacaoAdicional5Veiculo','InformacaoAdicional1Motorista','InformacaoAdicional2Motorista','InformacaoAdicional3Motorista','InformacaoAdicional4Motorista','InformacaoAdicional5Motorista','Numero Externo'], axis='columns')\n",
    "arq5 = arq5.drop(['Transacao','Responsavel','Tipo','Liberacao Restricao','Matricula','Horas Trabalhadas','Horas','Litros/Hora','Ordem de Servico','Emissora','InformacaoAdicional1Veiculo','InformacaoAdicional2Veiculo','InformacaoAdicional3Veiculo','InformacaoAdicional4Veiculo','InformacaoAdicional5Veiculo','InformacaoAdicional1Motorista','InformacaoAdicional2Motorista','InformacaoAdicional3Motorista','InformacaoAdicional4Motorista','InformacaoAdicional5Motorista','Numero Externo'], axis='columns')\n",
    "arq6 = arq6.drop(['Transacao','Responsavel','Tipo','Liberacao Restricao','Matricula','Horas Trabalhadas','Horas','Litros/Hora','Ordem de Servico','Emissora','InformacaoAdicional1Veiculo','InformacaoAdicional2Veiculo','InformacaoAdicional3Veiculo','InformacaoAdicional4Veiculo','InformacaoAdicional5Veiculo','InformacaoAdicional1Motorista','InformacaoAdicional2Motorista','InformacaoAdicional3Motorista','InformacaoAdicional4Motorista','InformacaoAdicional5Motorista','Numero Externo'], axis='columns')\n",
    "arq7 = arq7.drop(['Transacao','Responsavel','Tipo','Liberacao Restricao','Matricula','Horas Trabalhadas','Horas','Litros/Hora','Ordem de Servico','Emissora','InformacaoAdicional1Veiculo','InformacaoAdicional2Veiculo','InformacaoAdicional3Veiculo','InformacaoAdicional4Veiculo','InformacaoAdicional5Veiculo','InformacaoAdicional1Motorista','InformacaoAdicional2Motorista','InformacaoAdicional3Motorista','InformacaoAdicional4Motorista','InformacaoAdicional5Motorista','Numero Externo'], axis='columns')\n",
    "arq8 = arq8.drop(['Transacao','Responsavel','Tipo','Liberacao Restricao','Matricula','Horas Trabalhadas','Horas','Litros/Hora','Ordem de Servico','Emissora','InformacaoAdicional1Veiculo','InformacaoAdicional2Veiculo','InformacaoAdicional3Veiculo','InformacaoAdicional4Veiculo','InformacaoAdicional5Veiculo','InformacaoAdicional1Motorista','InformacaoAdicional2Motorista','InformacaoAdicional3Motorista','InformacaoAdicional4Motorista','InformacaoAdicional5Motorista','Numero Externo'], axis='columns')\n",
    "arq9 = arq9.drop(['Transacao','Responsavel','Tipo','Liberacao Restricao','Matricula','Horas Trabalhadas','Horas','Litros/Hora','Ordem de Servico','Emissora','InformacaoAdicional1Veiculo','InformacaoAdicional2Veiculo','InformacaoAdicional3Veiculo','InformacaoAdicional4Veiculo','InformacaoAdicional5Veiculo','InformacaoAdicional1Motorista','InformacaoAdicional2Motorista','InformacaoAdicional3Motorista','InformacaoAdicional4Motorista','InformacaoAdicional5Motorista','Numero Externo'], axis='columns')"
   ]
  },
  {
   "cell_type": "code",
   "execution_count": 5,
   "id": "7beef2f7",
   "metadata": {},
   "outputs": [],
   "source": [
    "arq = pd.concat([arq1,arq2,arq3,arq4,arq5,arq6,arq7,arq8,arq9], ignore_index=True)"
   ]
  },
  {
   "cell_type": "code",
   "execution_count": 6,
   "id": "af856588",
   "metadata": {
    "scrolled": true
   },
   "outputs": [],
   "source": [
    "abastecimentos_mauro = arq[arq['Motorista'] == 'MAURO SILVA']\n",
    "abastecimentos_luis = arq[arq['Motorista'] == 'LUIS HENRIQUE MACIEL']"
   ]
  },
  {
   "cell_type": "code",
   "execution_count": 8,
   "id": "b86f1d42",
   "metadata": {},
   "outputs": [
    {
     "name": "stderr",
     "output_type": "stream",
     "text": [
      "C:\\Users\\DAVID~1.CLO\\AppData\\Local\\Temp/ipykernel_1756/2793098394.py:1: FutureWarning: As the xlwt package is no longer maintained, the xlwt engine will be removed in a future version of pandas. This is the only engine in pandas that supports writing in the xls format. Install openpyxl and write to an xlsx file instead. You can set the option io.excel.xls.writer to 'xlwt' to silence this warning. While this option is deprecated and will also raise a warning, it can be globally set and the warning suppressed.\n",
      "  abastecimentos_mauro.to_excel('Abastecimentos_Mauro.xls')\n",
      "C:\\Users\\DAVID~1.CLO\\AppData\\Local\\Temp/ipykernel_1756/2793098394.py:2: FutureWarning: As the xlwt package is no longer maintained, the xlwt engine will be removed in a future version of pandas. This is the only engine in pandas that supports writing in the xls format. Install openpyxl and write to an xlsx file instead. You can set the option io.excel.xls.writer to 'xlwt' to silence this warning. While this option is deprecated and will also raise a warning, it can be globally set and the warning suppressed.\n",
      "  abastecimentos_luis.to_excel('Abastecimentos_Luis.xls')\n"
     ]
    }
   ],
   "source": [
    "abastecimentos_mauro.to_excel('Abastecimentos_Mauro.xls')\n",
    "abastecimentos_luis.to_excel('Abastecimentos_Luis.xls')"
   ]
  },
  {
   "cell_type": "code",
   "execution_count": null,
   "id": "7925d290",
   "metadata": {},
   "outputs": [],
   "source": [
    "display(arq.groupby('Motorista')['Valor'].sum())\n"
   ]
  }
 ],
 "metadata": {
  "kernelspec": {
   "display_name": "Python 3 (ipykernel)",
   "language": "python",
   "name": "python3"
  },
  "language_info": {
   "codemirror_mode": {
    "name": "ipython",
    "version": 3
   },
   "file_extension": ".py",
   "mimetype": "text/x-python",
   "name": "python",
   "nbconvert_exporter": "python",
   "pygments_lexer": "ipython3",
   "version": "3.9.7"
  }
 },
 "nbformat": 4,
 "nbformat_minor": 5
}
