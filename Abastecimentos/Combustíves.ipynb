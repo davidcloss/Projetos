{
 "cells": [
  {
   "cell_type": "code",
   "execution_count": 1,
   "id": "8eedfa79",
   "metadata": {},
   "outputs": [],
   "source": [
    "import pandas as pd\n",
    "from glob import glob"
   ]
  },
  {
   "cell_type": "code",
   "execution_count": 31,
   "id": "170c51ce",
   "metadata": {},
   "outputs": [],
   "source": [
    "arquivo = sorted(glob(r'C:\\Users\\Ross Geller\\/Documents/MEGAsync/data_science/project/Combustíveis/data/*.XLS'))"
   ]
  },
  {
   "cell_type": "code",
   "execution_count": 35,
   "id": "cfbd2b19",
   "metadata": {},
   "outputs": [],
   "source": [
    "abastecimentos = pd.concat((pd.read_excel(arq) for arq in arquivo), ignore_index=True)"
   ]
  },
  {
   "cell_type": "code",
   "execution_count": 47,
   "id": "42bf2b7a",
   "metadata": {},
   "outputs": [],
   "source": [
    "abastecimentos = abastecimentos.drop(['Cartao','Placa','Transacao','Responsavel','Tipo','Liberacao Restricao','Matricula','Horas Trabalhadas','Horas','Litros/Hora','Ordem de Servico','Emissora','InformacaoAdicional1Veiculo','InformacaoAdicional2Veiculo','InformacaoAdicional3Veiculo','InformacaoAdicional4Veiculo','InformacaoAdicional5Veiculo','InformacaoAdicional1Motorista','InformacaoAdicional2Motorista','InformacaoAdicional3Motorista','InformacaoAdicional4Motorista','InformacaoAdicional5Motorista','Numero Externo'], axis='columns')"
   ]
  },
  {
   "cell_type": "code",
   "execution_count": 48,
   "id": "af856588",
   "metadata": {
    "scrolled": true
   },
   "outputs": [],
   "source": [
    "abastecimentos_mauro = abastecimentos[abastecimentos['Motorista'] == 'MAURO SILVA']\n",
    "abastecimentos_luis = abastecimentos[abastecimentos['Motorista'] == 'LUIS HENRIQUE MACIEL']"
   ]
  },
  {
   "cell_type": "code",
   "execution_count": 49,
   "id": "b86f1d42",
   "metadata": {},
   "outputs": [
    {
     "name": "stderr",
     "output_type": "stream",
     "text": [
      "<ipython-input-49-558a3c598e07>:1: FutureWarning: As the xlwt package is no longer maintained, the xlwt engine will be removed in a future version of pandas. This is the only engine in pandas that supports writing in the xls format. Install openpyxl and write to an xlsx file instead. You can set the option io.excel.xls.writer to 'xlwt' to silence this warning. While this option is deprecated and will also raise a warning, it can be globally set and the warning suppressed.\n",
      "  abastecimentos_mauro.to_excel('Abastecimentos_Mauro.xls',index = False)\n",
      "<ipython-input-49-558a3c598e07>:2: FutureWarning: As the xlwt package is no longer maintained, the xlwt engine will be removed in a future version of pandas. This is the only engine in pandas that supports writing in the xls format. Install openpyxl and write to an xlsx file instead. You can set the option io.excel.xls.writer to 'xlwt' to silence this warning. While this option is deprecated and will also raise a warning, it can be globally set and the warning suppressed.\n",
      "  abastecimentos_luis.to_excel('Abastecimentos_Luis.xls', index = False)\n"
     ]
    }
   ],
   "source": [
    "abastecimentos_mauro.to_excel('Abastecimentos_Mauro.xls',index = False)\n",
    "abastecimentos_luis.to_excel('Abastecimentos_Luis.xls', index = False)"
   ]
  },
  {
   "cell_type": "code",
   "execution_count": 41,
   "id": "7925d290",
   "metadata": {},
   "outputs": [
    {
     "data": {
      "text/plain": [
       "Motorista\n",
       "ADERSON PEREIRA DE MIRANDA NETO          10421.40\n",
       "ADILSON RODRIGO OLIVEIRA SISNANDES       74795.41\n",
       "ALEX CESAR VIEIRA LESINHVSKI             27656.11\n",
       "ALEX SANDRO VALTER SOUZA DE ALMEIDA      10831.09\n",
       "AMILTON TOLDO FILHO                      10930.66\n",
       "ANTONIO APARECIDO DA SILVA               34629.42\n",
       "ANTONIO CESAR TEIXEIRA                    2367.56\n",
       "ANTONIO JULIO DA CONCEICAO NUNES          8234.76\n",
       "CELIO SANTOS SOUSA                       37534.58\n",
       "CLAUDEMIR LEMES                          50151.29\n",
       "CLEVERSON DE OLIVEIRA                    18523.65\n",
       "DAVI MEDEIROS                            41692.49\n",
       "EDER LORENO ALVES FERREIRA DA SILVA       6124.11\n",
       "EDILSON DA SILVA DIAS                     4335.10\n",
       "EDSON VICENTE FARIAS                      9857.66\n",
       "EMERSON JACI                             10340.13\n",
       "EMERSON JOSE BRITO BORGES                 5110.29\n",
       "FRANCISCO RIBEIRO DAS NEVES               9049.36\n",
       "GERSON ANDRE WELTER                       7659.09\n",
       "GEVERTON MICHEL SALBEGO ALEXANDRE        12418.25\n",
       "GILMAR ARAUJO DA SILVA                    6831.01\n",
       "IVAN DO NASCIMENTO CARDOSO                4851.95\n",
       "JORGE SANTOS                             11847.48\n",
       "JOSE EDNILSON DA SILVA                    8931.15\n",
       "JOSIMAR ALVES DE OLIVEIRA                 9433.17\n",
       "LEANDRO MOYANO DA VIDA                   49621.78\n",
       "LUIS HENRIQUE MACIEL                      3739.47\n",
       "MANOEL MARCELINO DA SILVA                 4869.16\n",
       "MARLON DA COSTA PONTEL                   11723.72\n",
       "MAURI NILSON PEREGO                       1243.87\n",
       "MAURO SILVA                                799.60\n",
       "MIGUEL SANTOS SOUZA                      14332.51\n",
       "MOACIR SILVA SANTOS                       4292.82\n",
       "ONOFRE ESCOBAR DA LUZ                    39358.69\n",
       "PAULO LUCIANO PERUZI VIVIANI             11936.43\n",
       "RAFAEL FERNANDO DE AQUINO                 7078.19\n",
       "RICARDO MIQUELETTO                        8940.10\n",
       "ROBERVAL DORIA ALVES                       963.04\n",
       "SINALDO MANOEL DA SILVA                   7803.91\n",
       "THIAGO NATHAN DE SANTOS LIMA              2844.82\n",
       "VANDERSON MIGUEL DE PAULA DO AMARANTE     6808.94\n",
       "VANDUIR CARLOS DA SILVA                  85672.55\n",
       "WELINTON FERNANDO MORENO SENNA           41578.36\n",
       "Name: Valor, dtype: float64"
      ]
     },
     "metadata": {},
     "output_type": "display_data"
    }
   ],
   "source": [
    "display(abastecimentos.groupby('Motorista')['Valor'].sum())\n"
   ]
  }
 ],
 "metadata": {
  "kernelspec": {
   "display_name": "Python 3",
   "language": "python",
   "name": "python3"
  },
  "language_info": {
   "codemirror_mode": {
    "name": "ipython",
    "version": 3
   },
   "file_extension": ".py",
   "mimetype": "text/x-python",
   "name": "python",
   "nbconvert_exporter": "python",
   "pygments_lexer": "ipython3",
   "version": "3.8.8"
  }
 },
 "nbformat": 4,
 "nbformat_minor": 5
}
