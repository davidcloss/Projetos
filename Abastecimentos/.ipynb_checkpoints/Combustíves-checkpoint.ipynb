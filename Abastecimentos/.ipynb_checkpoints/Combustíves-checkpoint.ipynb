{
 "cells": [
  {
   "cell_type": "code",
   "execution_count": 3,
   "id": "8eedfa79",
   "metadata": {},
   "outputs": [],
   "source": [
    "import pandas as pd"
   ]
  },
  {
   "cell_type": "code",
   "execution_count": 2,
   "id": "428cac98",
   "metadata": {},
   "outputs": [
    {
     "ename": "NameError",
     "evalue": "name 'pd' is not defined",
     "output_type": "error",
     "traceback": [
      "\u001b[1;31m---------------------------------------------------------------------------\u001b[0m",
      "\u001b[1;31mNameError\u001b[0m                                 Traceback (most recent call last)",
      "\u001b[1;32m<ipython-input-2-815afdda1973>\u001b[0m in \u001b[0;36m<module>\u001b[1;34m\u001b[0m\n\u001b[1;32m----> 1\u001b[1;33m \u001b[0marq1\u001b[0m \u001b[1;33m=\u001b[0m \u001b[0mpd\u001b[0m\u001b[1;33m.\u001b[0m\u001b[0mread_excel\u001b[0m\u001b[1;33m(\u001b[0m\u001b[1;34m'RFCVTITULO_95374_20220225_151551.XLS'\u001b[0m\u001b[1;33m)\u001b[0m\u001b[1;33m\u001b[0m\u001b[1;33m\u001b[0m\u001b[0m\n\u001b[0m\u001b[0;32m      2\u001b[0m \u001b[0marq2\u001b[0m \u001b[1;33m=\u001b[0m \u001b[0mpd\u001b[0m\u001b[1;33m.\u001b[0m\u001b[0mread_excel\u001b[0m\u001b[1;33m(\u001b[0m\u001b[1;34m'RFCVTITULO_95374_20220225_151602.XLS'\u001b[0m\u001b[1;33m)\u001b[0m\u001b[1;33m\u001b[0m\u001b[1;33m\u001b[0m\u001b[0m\n\u001b[0;32m      3\u001b[0m \u001b[0marq3\u001b[0m \u001b[1;33m=\u001b[0m \u001b[0mpd\u001b[0m\u001b[1;33m.\u001b[0m\u001b[0mread_excel\u001b[0m\u001b[1;33m(\u001b[0m\u001b[1;34m'RFCVTITULO_95374_20220225_151609.XLS'\u001b[0m\u001b[1;33m)\u001b[0m\u001b[1;33m\u001b[0m\u001b[1;33m\u001b[0m\u001b[0m\n\u001b[0;32m      4\u001b[0m \u001b[0marq3\u001b[0m \u001b[1;33m=\u001b[0m \u001b[0mpd\u001b[0m\u001b[1;33m.\u001b[0m\u001b[0mread_excel\u001b[0m\u001b[1;33m(\u001b[0m\u001b[1;34m'RFCVTITULO_95374_20220225_151614.XLS'\u001b[0m\u001b[1;33m)\u001b[0m\u001b[1;33m\u001b[0m\u001b[1;33m\u001b[0m\u001b[0m\n\u001b[0;32m      5\u001b[0m \u001b[0marq4\u001b[0m \u001b[1;33m=\u001b[0m \u001b[0mpd\u001b[0m\u001b[1;33m.\u001b[0m\u001b[0mread_excel\u001b[0m\u001b[1;33m(\u001b[0m\u001b[1;34m'RFCVTITULO_95374_20220225_151617.XLS'\u001b[0m\u001b[1;33m)\u001b[0m\u001b[1;33m\u001b[0m\u001b[1;33m\u001b[0m\u001b[0m\n",
      "\u001b[1;31mNameError\u001b[0m: name 'pd' is not defined"
     ]
    }
   ],
   "source": [
    "arq1 = pd.read_excel('RFCVTITULO_95374_20220225_151551.XLS')\n",
    "arq2 = pd.read_excel('RFCVTITULO_95374_20220225_151602.XLS')\n",
    "arq3 = pd.read_excel('RFCVTITULO_95374_20220225_151609.XLS')\n",
    "arq3 = pd.read_excel('RFCVTITULO_95374_20220225_151614.XLS')\n",
    "arq4 = pd.read_excel('RFCVTITULO_95374_20220225_151617.XLS')"
   ]
  },
  {
   "cell_type": "code",
   "execution_count": 20,
   "id": "ebd5e828",
   "metadata": {},
   "outputs": [],
   "source": [
    "## Fórmula do Drop: .drop(['Responsavel','Tipo','Liberacao Restricao','Matricula','Horas Trabalhadas','Horas','Litros/Hora','Ordem de Servico','Emissora','InformacaoAdicional1Veiculo','InformacaoAdicional2Veiculo','InformacaoAdicional3Veiculo','InformacaoAdicional4Veiculo','InformacaoAdicional5Veiculo','InformacaoAdicional1Motorista','InformacaoAdicional2Motorista','InformacaoAdicional3Motorista','InformacaoAdicional4Motorista','InformacaoAdicional5Motorista','Numero Externo'], axis='columns')\n"
   ]
  },
  {
   "cell_type": "code",
   "execution_count": 21,
   "id": "681b1aef",
   "metadata": {},
   "outputs": [],
   "source": [
    "arq1 = arq1.drop(['Responsavel','Tipo','Liberacao Restricao','Matricula','Horas Trabalhadas','Horas','Litros/Hora','Ordem de Servico','Emissora','InformacaoAdicional1Veiculo','InformacaoAdicional2Veiculo','InformacaoAdicional3Veiculo','InformacaoAdicional4Veiculo','InformacaoAdicional5Veiculo','InformacaoAdicional1Motorista','InformacaoAdicional2Motorista','InformacaoAdicional3Motorista','InformacaoAdicional4Motorista','InformacaoAdicional5Motorista','Numero Externo'], axis='columns')\n",
    "arq2 = arq2.drop(['Responsavel','Tipo','Liberacao Restricao','Matricula','Horas Trabalhadas','Horas','Litros/Hora','Ordem de Servico','Emissora','InformacaoAdicional1Veiculo','InformacaoAdicional2Veiculo','InformacaoAdicional3Veiculo','InformacaoAdicional4Veiculo','InformacaoAdicional5Veiculo','InformacaoAdicional1Motorista','InformacaoAdicional2Motorista','InformacaoAdicional3Motorista','InformacaoAdicional4Motorista','InformacaoAdicional5Motorista','Numero Externo'], axis='columns')\n",
    "arq3 = arq3.drop(['Responsavel','Tipo','Liberacao Restricao','Matricula','Horas Trabalhadas','Horas','Litros/Hora','Ordem de Servico','Emissora','InformacaoAdicional1Veiculo','InformacaoAdicional2Veiculo','InformacaoAdicional3Veiculo','InformacaoAdicional4Veiculo','InformacaoAdicional5Veiculo','InformacaoAdicional1Motorista','InformacaoAdicional2Motorista','InformacaoAdicional3Motorista','InformacaoAdicional4Motorista','InformacaoAdicional5Motorista','Numero Externo'], axis='columns')\n",
    "arq4 = arq4.drop(['Responsavel','Tipo','Liberacao Restricao','Matricula','Horas Trabalhadas','Horas','Litros/Hora','Ordem de Servico','Emissora','InformacaoAdicional1Veiculo','InformacaoAdicional2Veiculo','InformacaoAdicional3Veiculo','InformacaoAdicional4Veiculo','InformacaoAdicional5Veiculo','InformacaoAdicional1Motorista','InformacaoAdicional2Motorista','InformacaoAdicional3Motorista','InformacaoAdicional4Motorista','InformacaoAdicional5Motorista','Numero Externo'], axis='columns')"
   ]
  },
  {
   "cell_type": "code",
   "execution_count": 27,
   "id": "7beef2f7",
   "metadata": {},
   "outputs": [
    {
     "ename": "TypeError",
     "evalue": "string indices must be integers",
     "output_type": "error",
     "traceback": [
      "\u001b[1;31m---------------------------------------------------------------------------\u001b[0m",
      "\u001b[1;31mTypeError\u001b[0m                                 Traceback (most recent call last)",
      "\u001b[1;32mC:\\Users\\DAVID~1.CLO\\AppData\\Local\\Temp/ipykernel_8024/2329487100.py\u001b[0m in \u001b[0;36m<module>\u001b[1;34m\u001b[0m\n\u001b[0;32m      1\u001b[0m \u001b[1;32mfor\u001b[0m \u001b[0marq\u001b[0m \u001b[1;32min\u001b[0m \u001b[0marq1\u001b[0m\u001b[1;33m:\u001b[0m\u001b[1;33m\u001b[0m\u001b[1;33m\u001b[0m\u001b[0m\n\u001b[1;32m----> 2\u001b[1;33m     \u001b[0mmotorista\u001b[0m \u001b[1;33m=\u001b[0m \u001b[0mdict\u001b[0m\u001b[1;33m(\u001b[0m\u001b[0marq\u001b[0m\u001b[1;33m[\u001b[0m\u001b[1;34m'Motorista'\u001b[0m\u001b[1;33m]\u001b[0m\u001b[1;33m)\u001b[0m\u001b[1;33m\u001b[0m\u001b[1;33m\u001b[0m\u001b[0m\n\u001b[0m",
      "\u001b[1;31mTypeError\u001b[0m: string indices must be integers"
     ]
    }
   ],
   "source": []
  },
  {
   "cell_type": "code",
   "execution_count": 24,
   "id": "af856588",
   "metadata": {},
   "outputs": [
    {
     "name": "stdout",
     "output_type": "stream",
     "text": [
      "Cartao\n",
      "Placa\n",
      "Modelo\n",
      "Data/Hora\n",
      "Transacao\n",
      "Motorista\n",
      "Estabelecimento\n",
      "Cidade\n",
      "Quilometragem\n",
      "Servico\n",
      "Valor\n",
      "Km Rodados\n",
      "Litros\n",
      "Km/litro\n",
      "Valor/Litro\n"
     ]
    }
   ],
   "source": [
    "for arq in arq1:\n",
    "    print(arq)"
   ]
  }
 ],
 "metadata": {
  "kernelspec": {
   "display_name": "Python 3",
   "language": "python",
   "name": "python3"
  }
 },
 "nbformat": 4,
 "nbformat_minor": 5
}
